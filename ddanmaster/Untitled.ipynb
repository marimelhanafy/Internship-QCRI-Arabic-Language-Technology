{
 "cells": [
  {
   "cell_type": "code",
   "execution_count": 1,
   "id": "b1684ce7-c029-4426-aeb5-5a9f23c6da95",
   "metadata": {},
   "outputs": [
    {
     "ename": "ImportError",
     "evalue": "cannot import name 'DANNModel' from partially initialized module 'ddan' (most likely due to a circular import) (D:\\Downloads\\internship QCRI\\ddan-master\\ddan\\__init__.py)",
     "output_type": "error",
     "traceback": [
      "\u001b[1;31m---------------------------------------------------------------------------\u001b[0m",
      "\u001b[1;31mImportError\u001b[0m                               Traceback (most recent call last)",
      "Input \u001b[1;32mIn [1]\u001b[0m, in \u001b[0;36m<cell line: 1>\u001b[1;34m()\u001b[0m\n\u001b[1;32m----> 1\u001b[0m \u001b[38;5;28;01mimport\u001b[39;00m \u001b[38;5;21;01mddan\u001b[39;00m\u001b[38;5;21;01m.\u001b[39;00m\u001b[38;5;21;01mabn\u001b[39;00m\n\u001b[0;32m      2\u001b[0m \u001b[38;5;28;01mimport\u001b[39;00m \u001b[38;5;21;01mexamples\u001b[39;00m\u001b[38;5;21;01m.\u001b[39;00m\u001b[38;5;21;01mdata\u001b[39;00m\n",
      "File \u001b[1;32mD:\\Downloads\\internship QCRI\\ddan-master\\ddan\\__init__.py:1\u001b[0m, in \u001b[0;36m<module>\u001b[1;34m\u001b[0m\n\u001b[1;32m----> 1\u001b[0m \u001b[38;5;28;01mfrom\u001b[39;00m \u001b[38;5;21;01mddan\u001b[39;00m \u001b[38;5;28;01mimport\u001b[39;00m DANNModel\n\u001b[0;32m      2\u001b[0m \u001b[38;5;28;01mfrom\u001b[39;00m \u001b[38;5;21;01mddcn\u001b[39;00m \u001b[38;5;28;01mimport\u001b[39;00m DDCNModel\n\u001b[0;32m      3\u001b[0m \u001b[38;5;28;01mfrom\u001b[39;00m \u001b[38;5;21;01mdeepcoral\u001b[39;00m \u001b[38;5;28;01mimport\u001b[39;00m DeepCoralNet\n",
      "\u001b[1;31mImportError\u001b[0m: cannot import name 'DANNModel' from partially initialized module 'ddan' (most likely due to a circular import) (D:\\Downloads\\internship QCRI\\ddan-master\\ddan\\__init__.py)"
     ]
    }
   ],
   "source": [
    "import ddan.abn\n",
    "import examples.data"
   ]
  },
  {
   "cell_type": "code",
   "execution_count": null,
   "id": "fb87acad-cb0b-40f3-8242-03e006ba6099",
   "metadata": {},
   "outputs": [],
   "source": []
  }
 ],
 "metadata": {
  "kernelspec": {
   "display_name": "Python 3 (ipykernel)",
   "language": "python",
   "name": "python3"
  },
  "language_info": {
   "codemirror_mode": {
    "name": "ipython",
    "version": 3
   },
   "file_extension": ".py",
   "mimetype": "text/x-python",
   "name": "python",
   "nbconvert_exporter": "python",
   "pygments_lexer": "ipython3",
   "version": "3.9.12"
  }
 },
 "nbformat": 4,
 "nbformat_minor": 5
}
